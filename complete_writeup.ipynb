{
 "cells": [
  {
   "cell_type": "markdown",
   "metadata": {},
   "source": [
    "# Assignment: Build a Regression Model in Keras\n",
    "\n",
    "## Introduction\n",
    "\n",
    "This assignment was the final project in IBM's [Introduction to Deep Learning & Neural Networks with Keras](https://www.coursera.org/account/accomplishments/certificate/QQEVGBYCHYYP) course on Coursera. The objective: build a regression model to predict the compressive strength of concrete based on its age (in days) and the volumes of the different ingredients used to make it.\n",
    "\n",
    "Each part of the assignment involved the following steps:\n",
    "\n",
    "1. Randomly split the data into training and test sets, holding 30% for testing.\n",
    "2. Build a neural network with hidden layers of 10 nodes each, using ReLU activation, Adam optimization, and a mean squared error loss function.\n",
    "3. Train the model over a certain number of epochs.\n",
    "4. Evaluate the model on the test data and compute the mean squared error between the predicted strength and actual strength.\n",
    "5. Repeat the previous steps 50 times.\n",
    "6. Report the mean and the standard deviation of the 50 mean squared errors.\n",
    "\n",
    "The four parts differed as follows in terms of whether or not the input data was normalized, the number of hidden layers, and the number of epochs over which the model was trained:\n",
    "\n",
    "- **Part A**: raw input data, 1 hidden layer, 50 epochs\n",
    "- **Part B**: normalized input data, 1 hidden layer, 50 epochs\n",
    "- **Part C**: normalized input data, 1 hidden layer, 100 epochs\n",
    "- **Part D**: normalized input data, 3 hidden layers, 50 epochs"
   ]
  },
  {
   "cell_type": "markdown",
   "metadata": {},
   "source": [
    "## Part A\n",
    "\n",
    "### Download and clean the data\n",
    "\n",
    "First step: download the dataset and save it as a pandas DataFrame."
   ]
  },
  {
   "cell_type": "code",
   "execution_count": 1,
   "metadata": {},
   "outputs": [
    {
     "data": {
      "text/html": [
       "<div>\n",
       "<style scoped>\n",
       "    .dataframe tbody tr th:only-of-type {\n",
       "        vertical-align: middle;\n",
       "    }\n",
       "\n",
       "    .dataframe tbody tr th {\n",
       "        vertical-align: top;\n",
       "    }\n",
       "\n",
       "    .dataframe thead th {\n",
       "        text-align: right;\n",
       "    }\n",
       "</style>\n",
       "<table border=\"1\" class=\"dataframe\">\n",
       "  <thead>\n",
       "    <tr style=\"text-align: right;\">\n",
       "      <th></th>\n",
       "      <th>Cement</th>\n",
       "      <th>Blast Furnace Slag</th>\n",
       "      <th>Fly Ash</th>\n",
       "      <th>Water</th>\n",
       "      <th>Superplasticizer</th>\n",
       "      <th>Coarse Aggregate</th>\n",
       "      <th>Fine Aggregate</th>\n",
       "      <th>Age</th>\n",
       "      <th>Strength</th>\n",
       "    </tr>\n",
       "  </thead>\n",
       "  <tbody>\n",
       "    <tr>\n",
       "      <th>0</th>\n",
       "      <td>540.0</td>\n",
       "      <td>0.0</td>\n",
       "      <td>0.0</td>\n",
       "      <td>162.0</td>\n",
       "      <td>2.5</td>\n",
       "      <td>1040.0</td>\n",
       "      <td>676.0</td>\n",
       "      <td>28</td>\n",
       "      <td>79.99</td>\n",
       "    </tr>\n",
       "    <tr>\n",
       "      <th>1</th>\n",
       "      <td>540.0</td>\n",
       "      <td>0.0</td>\n",
       "      <td>0.0</td>\n",
       "      <td>162.0</td>\n",
       "      <td>2.5</td>\n",
       "      <td>1055.0</td>\n",
       "      <td>676.0</td>\n",
       "      <td>28</td>\n",
       "      <td>61.89</td>\n",
       "    </tr>\n",
       "    <tr>\n",
       "      <th>2</th>\n",
       "      <td>332.5</td>\n",
       "      <td>142.5</td>\n",
       "      <td>0.0</td>\n",
       "      <td>228.0</td>\n",
       "      <td>0.0</td>\n",
       "      <td>932.0</td>\n",
       "      <td>594.0</td>\n",
       "      <td>270</td>\n",
       "      <td>40.27</td>\n",
       "    </tr>\n",
       "    <tr>\n",
       "      <th>3</th>\n",
       "      <td>332.5</td>\n",
       "      <td>142.5</td>\n",
       "      <td>0.0</td>\n",
       "      <td>228.0</td>\n",
       "      <td>0.0</td>\n",
       "      <td>932.0</td>\n",
       "      <td>594.0</td>\n",
       "      <td>365</td>\n",
       "      <td>41.05</td>\n",
       "    </tr>\n",
       "    <tr>\n",
       "      <th>4</th>\n",
       "      <td>198.6</td>\n",
       "      <td>132.4</td>\n",
       "      <td>0.0</td>\n",
       "      <td>192.0</td>\n",
       "      <td>0.0</td>\n",
       "      <td>978.4</td>\n",
       "      <td>825.5</td>\n",
       "      <td>360</td>\n",
       "      <td>44.30</td>\n",
       "    </tr>\n",
       "  </tbody>\n",
       "</table>\n",
       "</div>"
      ],
      "text/plain": [
       "   Cement  Blast Furnace Slag  Fly Ash  Water  Superplasticizer  \\\n",
       "0   540.0                 0.0      0.0  162.0               2.5   \n",
       "1   540.0                 0.0      0.0  162.0               2.5   \n",
       "2   332.5               142.5      0.0  228.0               0.0   \n",
       "3   332.5               142.5      0.0  228.0               0.0   \n",
       "4   198.6               132.4      0.0  192.0               0.0   \n",
       "\n",
       "   Coarse Aggregate  Fine Aggregate  Age  Strength  \n",
       "0            1040.0           676.0   28     79.99  \n",
       "1            1055.0           676.0   28     61.89  \n",
       "2             932.0           594.0  270     40.27  \n",
       "3             932.0           594.0  365     41.05  \n",
       "4             978.4           825.5  360     44.30  "
      ]
     },
     "execution_count": 1,
     "metadata": {},
     "output_type": "execute_result"
    }
   ],
   "source": [
    "import pandas as pd\n",
    "\n",
    "concrete_data = pd.read_csv(\"https://cocl.us/concrete_data\")\n",
    "concrete_data.head()"
   ]
  },
  {
   "cell_type": "markdown",
   "metadata": {},
   "source": [
    "Looks good. Next up, splitting between predictors (`X`) and target (`y`). Strength is the target variable."
   ]
  },
  {
   "cell_type": "code",
   "execution_count": 2,
   "metadata": {},
   "outputs": [],
   "source": [
    "X = concrete_data[concrete_data.columns[concrete_data.columns != \"Strength\"]]\n",
    "num_cols = X.shape[1] # Saving for later\n",
    "\n",
    "y = concrete_data[\"Strength\"]"
   ]
  },
  {
   "cell_type": "code",
   "execution_count": 3,
   "metadata": {},
   "outputs": [
    {
     "data": {
      "text/html": [
       "<div>\n",
       "<style scoped>\n",
       "    .dataframe tbody tr th:only-of-type {\n",
       "        vertical-align: middle;\n",
       "    }\n",
       "\n",
       "    .dataframe tbody tr th {\n",
       "        vertical-align: top;\n",
       "    }\n",
       "\n",
       "    .dataframe thead th {\n",
       "        text-align: right;\n",
       "    }\n",
       "</style>\n",
       "<table border=\"1\" class=\"dataframe\">\n",
       "  <thead>\n",
       "    <tr style=\"text-align: right;\">\n",
       "      <th></th>\n",
       "      <th>Cement</th>\n",
       "      <th>Blast Furnace Slag</th>\n",
       "      <th>Fly Ash</th>\n",
       "      <th>Water</th>\n",
       "      <th>Superplasticizer</th>\n",
       "      <th>Coarse Aggregate</th>\n",
       "      <th>Fine Aggregate</th>\n",
       "      <th>Age</th>\n",
       "    </tr>\n",
       "  </thead>\n",
       "  <tbody>\n",
       "    <tr>\n",
       "      <th>0</th>\n",
       "      <td>540.0</td>\n",
       "      <td>0.0</td>\n",
       "      <td>0.0</td>\n",
       "      <td>162.0</td>\n",
       "      <td>2.5</td>\n",
       "      <td>1040.0</td>\n",
       "      <td>676.0</td>\n",
       "      <td>28</td>\n",
       "    </tr>\n",
       "    <tr>\n",
       "      <th>1</th>\n",
       "      <td>540.0</td>\n",
       "      <td>0.0</td>\n",
       "      <td>0.0</td>\n",
       "      <td>162.0</td>\n",
       "      <td>2.5</td>\n",
       "      <td>1055.0</td>\n",
       "      <td>676.0</td>\n",
       "      <td>28</td>\n",
       "    </tr>\n",
       "    <tr>\n",
       "      <th>2</th>\n",
       "      <td>332.5</td>\n",
       "      <td>142.5</td>\n",
       "      <td>0.0</td>\n",
       "      <td>228.0</td>\n",
       "      <td>0.0</td>\n",
       "      <td>932.0</td>\n",
       "      <td>594.0</td>\n",
       "      <td>270</td>\n",
       "    </tr>\n",
       "    <tr>\n",
       "      <th>3</th>\n",
       "      <td>332.5</td>\n",
       "      <td>142.5</td>\n",
       "      <td>0.0</td>\n",
       "      <td>228.0</td>\n",
       "      <td>0.0</td>\n",
       "      <td>932.0</td>\n",
       "      <td>594.0</td>\n",
       "      <td>365</td>\n",
       "    </tr>\n",
       "    <tr>\n",
       "      <th>4</th>\n",
       "      <td>198.6</td>\n",
       "      <td>132.4</td>\n",
       "      <td>0.0</td>\n",
       "      <td>192.0</td>\n",
       "      <td>0.0</td>\n",
       "      <td>978.4</td>\n",
       "      <td>825.5</td>\n",
       "      <td>360</td>\n",
       "    </tr>\n",
       "  </tbody>\n",
       "</table>\n",
       "</div>"
      ],
      "text/plain": [
       "   Cement  Blast Furnace Slag  Fly Ash  Water  Superplasticizer  \\\n",
       "0   540.0                 0.0      0.0  162.0               2.5   \n",
       "1   540.0                 0.0      0.0  162.0               2.5   \n",
       "2   332.5               142.5      0.0  228.0               0.0   \n",
       "3   332.5               142.5      0.0  228.0               0.0   \n",
       "4   198.6               132.4      0.0  192.0               0.0   \n",
       "\n",
       "   Coarse Aggregate  Fine Aggregate  Age  \n",
       "0            1040.0           676.0   28  \n",
       "1            1055.0           676.0   28  \n",
       "2             932.0           594.0  270  \n",
       "3             932.0           594.0  365  \n",
       "4             978.4           825.5  360  "
      ]
     },
     "execution_count": 3,
     "metadata": {},
     "output_type": "execute_result"
    }
   ],
   "source": [
    "X.head()"
   ]
  },
  {
   "cell_type": "code",
   "execution_count": 4,
   "metadata": {},
   "outputs": [
    {
     "data": {
      "text/plain": [
       "0    79.99\n",
       "1    61.89\n",
       "2    40.27\n",
       "3    41.05\n",
       "4    44.30\n",
       "Name: Strength, dtype: float64"
      ]
     },
     "execution_count": 4,
     "metadata": {},
     "output_type": "execute_result"
    }
   ],
   "source": [
    "y.head()"
   ]
  },
  {
   "cell_type": "markdown",
   "metadata": {},
   "source": [
    "### Build the neural network\n",
    "\n",
    "Next I'll build a function to create the neural network, with the number of hidden layers as a parameter, since Part D uses three hidden layers."
   ]
  },
  {
   "cell_type": "code",
   "execution_count": 5,
   "metadata": {},
   "outputs": [
    {
     "name": "stderr",
     "output_type": "stream",
     "text": [
      "Using TensorFlow backend.\n"
     ]
    }
   ],
   "source": [
    "import keras\n",
    "from keras.models import Sequential\n",
    "from keras.layers import Dense\n",
    "\n",
    "\n",
    "def regression_model(num_hidden_layers):\n",
    "    model = Sequential()\n",
    "\n",
    "    # Hidden layers\n",
    "    model.add(Dense(10, activation=\"relu\", input_shape=(num_cols,)))\n",
    "    for i in range(num_hidden_layers - 1):\n",
    "        model.add(Dense(10, activation=\"relu\"))\n",
    "\n",
    "    # Output layer\n",
    "    model.add(Dense(1))\n",
    "\n",
    "    model.compile(optimizer=\"adam\", loss=\"mean_squared_error\")\n",
    "    return model"
   ]
  },
  {
   "cell_type": "markdown",
   "metadata": {},
   "source": [
    "### Split, train, evaluate &times; 50\n",
    "\n",
    "Now the fun part. I'm going to do the following 50 times:\n",
    "\n",
    "- Randomly split the data by holding 30% for testing.\n",
    "- Train a model on the training data over 50 epochs.\n",
    "- Evaluate the model on the test data and compute the mean squared error between predicted concrete strength and actual concrete strength.\n",
    "\n",
    "I'll save each of the 50 mean squared errors into a list.\n",
    "\n",
    "And come to think of it, I'm going to define a function for this process, because I'm going to need to repeat it in all the other parts of the assignment, just varying a few key parameters."
   ]
  },
  {
   "cell_type": "code",
   "execution_count": 6,
   "metadata": {},
   "outputs": [
    {
     "name": "stdout",
     "output_type": "stream",
     "text": [
      "Run #1 complete\n",
      "Run #2 complete\n",
      "Run #3 complete\n",
      "Run #4 complete\n",
      "Run #5 complete\n",
      "Run #6 complete\n",
      "Run #7 complete\n",
      "Run #8 complete\n",
      "Run #9 complete\n",
      "Run #10 complete\n",
      "Run #11 complete\n",
      "Run #12 complete\n",
      "Run #13 complete\n",
      "Run #14 complete\n",
      "Run #15 complete\n",
      "Run #16 complete\n",
      "Run #17 complete\n",
      "Run #18 complete\n",
      "Run #19 complete\n",
      "Run #20 complete\n",
      "Run #21 complete\n",
      "Run #22 complete\n",
      "Run #23 complete\n",
      "Run #24 complete\n",
      "Run #25 complete\n",
      "Run #26 complete\n",
      "Run #27 complete\n",
      "Run #28 complete\n",
      "Run #29 complete\n",
      "Run #30 complete\n",
      "Run #31 complete\n",
      "Run #32 complete\n",
      "Run #33 complete\n",
      "Run #34 complete\n",
      "Run #35 complete\n",
      "Run #36 complete\n",
      "Run #37 complete\n",
      "Run #38 complete\n",
      "Run #39 complete\n",
      "Run #40 complete\n",
      "Run #41 complete\n",
      "Run #42 complete\n",
      "Run #43 complete\n",
      "Run #44 complete\n",
      "Run #45 complete\n",
      "Run #46 complete\n",
      "Run #47 complete\n",
      "Run #48 complete\n",
      "Run #49 complete\n",
      "Run #50 complete\n"
     ]
    },
    {
     "data": {
      "image/png": "[encoded data removed]",
      "text/plain": [
       "<Figure size 432x288 with 1 Axes>"
      ]
     },
     "metadata": {
      "needs_background": "light"
     },
     "output_type": "display_data"
    }
   ],
   "source": [
    "from sklearn.model_selection import train_test_split\n",
    "from sklearn.metrics import mean_squared_error\n",
    "from matplotlib import pyplot\n",
    "\n",
    "\n",
    "def process_models(X, y, num_hidden_layers, num_epochs):\n",
    "    mean_squared_errors = []\n",
    "\n",
    "    for i in range(50):\n",
    "        # Split the data\n",
    "        X_train, X_test, y_train, y_test = train_test_split(X, y, test_size=0.3)\n",
    "\n",
    "        # Train the model\n",
    "        model = regression_model(num_hidden_layers)\n",
    "        hist = model.fit(\n",
    "            X_train,\n",
    "            y_train,\n",
    "            epochs=num_epochs,\n",
    "            verbose=0,\n",
    "            validation_data=(X_test, y_test),\n",
    "        )\n",
    "\n",
    "        # Test the model\n",
    "        predictions = model.predict(X_test)\n",
    "\n",
    "        # Find and save the mean squared error\n",
    "        mean_squared_errors.append(mean_squared_error(y_test, predictions))\n",
    "\n",
    "        print(\"Run #{} complete\".format(i + 1))\n",
    "\n",
    "    # Plot the loss from the last run just for fun\n",
    "    pyplot.plot(hist.history[\"loss\"])\n",
    "    pyplot.plot(hist.history[\"val_loss\"])\n",
    "    pyplot.title(\"Model loss (run #50)\")\n",
    "    pyplot.ylabel(\"Loss\")\n",
    "    pyplot.xlabel(\"Epoch\")\n",
    "    pyplot.legend([\"Train\", \"Test\"], loc=\"upper right\")\n",
    "    pyplot.show()\n",
    "\n",
    "    return mean_squared_errors\n",
    "\n",
    "\n",
    "errors_a = process_models(X, y, 1, 50)"
   ]
  },
  {
   "cell_type": "markdown",
   "metadata": {},
   "source": [
    "### Results\n",
    "\n",
    "I'll make a function for this part, too."
   ]
  },
  {
   "cell_type": "code",
   "execution_count": 7,
   "metadata": {
    "scrolled": true
   },
   "outputs": [
    {
     "name": "stdout",
     "output_type": "stream",
     "text": [
      "The mean of the mean squared errors is 347.606\n",
      "The standard deviation of the mean squared errors is 363.603\n"
     ]
    }
   ],
   "source": [
    "from statistics import mean, stdev\n",
    "\n",
    "\n",
    "def report_results(mean_squared_errors):\n",
    "    print(\n",
    "        \"The mean of the mean squared errors is {}\".format(\n",
    "            round(mean(mean_squared_errors), 3)\n",
    "        )\n",
    "    )\n",
    "    print(\n",
    "        \"The standard deviation of the mean squared errors is {}\".format(\n",
    "            round(stdev(mean_squared_errors), 3)\n",
    "        )\n",
    "    )\n",
    "\n",
    "\n",
    "report_results(errors_a)"
   ]
  },
  {
   "cell_type": "markdown",
   "metadata": {},
   "source": [
    "There you have it. I'll admit, those errors look pretty bad. I'm curious to see how the changes in the next three parts affect that."
   ]
  },
  {
   "cell_type": "markdown",
   "metadata": {},
   "source": [
    "## Part B\n",
    "\n",
    "Same as Part A, but using a normalized version of the data. I'll normalize the predictors, then repeat the split/train/evaluate/repeat\n",
    "process, then report the results."
   ]
  },
  {
   "cell_type": "code",
   "execution_count": 8,
   "metadata": {},
   "outputs": [
    {
     "name": "stdout",
     "output_type": "stream",
     "text": [
      "Run #1 complete\n",
      "Run #2 complete\n",
      "Run #3 complete\n",
      "Run #4 complete\n",
      "Run #5 complete\n",
      "Run #6 complete\n",
      "Run #7 complete\n",
      "Run #8 complete\n",
      "Run #9 complete\n",
      "Run #10 complete\n",
      "Run #11 complete\n",
      "Run #12 complete\n",
      "Run #13 complete\n",
      "Run #14 complete\n",
      "Run #15 complete\n",
      "Run #16 complete\n",
      "Run #17 complete\n",
      "Run #18 complete\n",
      "Run #19 complete\n",
      "Run #20 complete\n",
      "Run #21 complete\n",
      "Run #22 complete\n",
      "Run #23 complete\n",
      "Run #24 complete\n",
      "Run #25 complete\n",
      "Run #26 complete\n",
      "Run #27 complete\n",
      "Run #28 complete\n",
      "Run #29 complete\n",
      "Run #30 complete\n",
      "Run #31 complete\n",
      "Run #32 complete\n",
      "Run #33 complete\n",
      "Run #34 complete\n",
      "Run #35 complete\n",
      "Run #36 complete\n",
      "Run #37 complete\n",
      "Run #38 complete\n",
      "Run #39 complete\n",
      "Run #40 complete\n",
      "Run #41 complete\n",
      "Run #42 complete\n",
      "Run #43 complete\n",
      "Run #44 complete\n",
      "Run #45 complete\n",
      "Run #46 complete\n",
      "Run #47 complete\n",
      "Run #48 complete\n",
      "Run #49 complete\n",
      "Run #50 complete\n"
     ]
    },
    {
     "data": {
      "image/png": "[encoded data removed]",
      "text/plain": [
       "<Figure size 432x288 with 1 Axes>"
      ]
     },
     "metadata": {
      "needs_background": "light"
     },
     "output_type": "display_data"
    },
    {
     "name": "stdout",
     "output_type": "stream",
     "text": [
      "The mean of the mean squared errors is 381.438\n",
      "The standard deviation of the mean squared errors is 110.781\n"
     ]
    }
   ],
   "source": [
    "X_norm = (X - X.mean()) / X.std()\n",
    "\n",
    "errors_b = process_models(X_norm, y, 1, 50)\n",
    "report_results(errors_b)"
   ]
  },
  {
   "cell_type": "markdown",
   "metadata": {},
   "source": [
    "The mean of the mean squared errors is just the slightest bit higher than Part A, probably not significantly so. Curious. The standard deviation is much less, though. I assume the inputs vary less after normalizing?"
   ]
  },
  {
   "cell_type": "markdown",
   "metadata": {},
   "source": [
    "## Part C\n",
    "\n",
    "Same as Part B, but using 100 epochs for training. Here we go:"
   ]
  },
  {
   "cell_type": "code",
   "execution_count": 9,
   "metadata": {},
   "outputs": [
    {
     "name": "stdout",
     "output_type": "stream",
     "text": [
      "Run #1 complete\n",
      "Run #2 complete\n",
      "Run #3 complete\n",
      "Run #4 complete\n",
      "Run #5 complete\n",
      "Run #6 complete\n",
      "Run #7 complete\n",
      "Run #8 complete\n",
      "Run #9 complete\n",
      "Run #10 complete\n",
      "Run #11 complete\n",
      "Run #12 complete\n",
      "Run #13 complete\n",
      "Run #14 complete\n",
      "Run #15 complete\n",
      "Run #16 complete\n",
      "Run #17 complete\n",
      "Run #18 complete\n",
      "Run #19 complete\n",
      "Run #20 complete\n",
      "Run #21 complete\n",
      "Run #22 complete\n",
      "Run #23 complete\n",
      "Run #24 complete\n",
      "Run #25 complete\n",
      "Run #26 complete\n",
      "Run #27 complete\n",
      "Run #28 complete\n",
      "Run #29 complete\n",
      "Run #30 complete\n",
      "Run #31 complete\n",
      "Run #32 complete\n",
      "Run #33 complete\n",
      "Run #34 complete\n",
      "Run #35 complete\n",
      "Run #36 complete\n",
      "Run #37 complete\n",
      "Run #38 complete\n",
      "Run #39 complete\n",
      "Run #40 complete\n",
      "Run #41 complete\n",
      "Run #42 complete\n",
      "Run #43 complete\n",
      "Run #44 complete\n",
      "Run #45 complete\n",
      "Run #46 complete\n",
      "Run #47 complete\n",
      "Run #48 complete\n",
      "Run #49 complete\n",
      "Run #50 complete\n"
     ]
    },
    {
     "data": {
      "image/png": "[encoded data removed]",
      "text/plain": [
       "<Figure size 432x288 with 1 Axes>"
      ]
     },
     "metadata": {
      "needs_background": "light"
     },
     "output_type": "display_data"
    },
    {
     "name": "stdout",
     "output_type": "stream",
     "text": [
      "The mean of the mean squared errors is 161.423\n",
      "The standard deviation of the mean squared errors is 16.934\n"
     ]
    }
   ],
   "source": [
    "errors_c = process_models(X_norm, y, 1, 100)\n",
    "report_results(errors_c)"
   ]
  },
  {
   "cell_type": "markdown",
   "metadata": {},
   "source": [
    "That significantly reduced both the mean _and_ the standard deviation of the mean squared errors compared to Part B. Nice."
   ]
  },
  {
   "cell_type": "markdown",
   "metadata": {},
   "source": [
    "## Part D\n",
    "\n",
    "Last but not least, this one's the same as Part B but with _three_ hidden layers (each still with 10 nodes and ReLU activation). Sure am glad I made those functions in Part A."
   ]
  },
  {
   "cell_type": "code",
   "execution_count": 10,
   "metadata": {},
   "outputs": [
    {
     "name": "stdout",
     "output_type": "stream",
     "text": [
      "Run #1 complete\n",
      "Run #2 complete\n",
      "Run #3 complete\n",
      "Run #4 complete\n",
      "Run #5 complete\n",
      "Run #6 complete\n",
      "Run #7 complete\n",
      "Run #8 complete\n",
      "Run #9 complete\n",
      "Run #10 complete\n",
      "Run #11 complete\n",
      "Run #12 complete\n",
      "Run #13 complete\n",
      "Run #14 complete\n",
      "Run #15 complete\n",
      "Run #16 complete\n",
      "Run #17 complete\n",
      "Run #18 complete\n",
      "Run #19 complete\n",
      "Run #20 complete\n",
      "Run #21 complete\n",
      "Run #22 complete\n",
      "Run #23 complete\n",
      "Run #24 complete\n",
      "Run #25 complete\n",
      "Run #26 complete\n",
      "Run #27 complete\n",
      "Run #28 complete\n",
      "Run #29 complete\n",
      "Run #30 complete\n",
      "Run #31 complete\n",
      "Run #32 complete\n",
      "Run #33 complete\n",
      "Run #34 complete\n",
      "Run #35 complete\n",
      "Run #36 complete\n",
      "Run #37 complete\n",
      "Run #38 complete\n",
      "Run #39 complete\n",
      "Run #40 complete\n",
      "Run #41 complete\n",
      "Run #42 complete\n",
      "Run #43 complete\n",
      "Run #44 complete\n",
      "Run #45 complete\n",
      "Run #46 complete\n",
      "Run #47 complete\n",
      "Run #48 complete\n",
      "Run #49 complete\n",
      "Run #50 complete\n"
     ]
    },
    {
     "data": {
      "image/png": "[encoded data removed]",
      "text/plain": [
       "<Figure size 432x288 with 1 Axes>"
      ]
     },
     "metadata": {
      "needs_background": "light"
     },
     "output_type": "display_data"
    },
    {
     "name": "stdout",
     "output_type": "stream",
     "text": [
      "The mean of the mean squared errors is 130.296\n",
      "The standard deviation of the mean squared errors is 14.269\n"
     ]
    }
   ],
   "source": [
    "errors_d = process_models(X_norm, y, 3, 50)\n",
    "report_results(errors_d)"
   ]
  },
  {
   "cell_type": "markdown",
   "metadata": {},
   "source": [
    "This is again a significant improvement over Part B (both the mean and standard deviation of the mean squared errors are much less), but not too much better than Part C. Fascinating."
   ]
  },
  {
   "cell_type": "markdown",
   "metadata": {},
   "source": [
    "## Reflection\n",
    "\n",
    "What I'm still wondering the most now is how one goes about designing the size and shape of a neural network. I've gotten good at _building_ a network with the Keras API now if I'm told how many layers to use, how many nodes in each of those layers, how many epochs to train it over. But how do you make those decisions for each new dataset and problem?\n",
    "\n",
    "That's what I intend to learn next."
   ]
  }
 ],
 "metadata": {
  "kernelspec": {
   "display_name": "Python 3",
   "language": "python",
   "name": "python3"
  },
  "language_info": {
   "codemirror_mode": {
    "name": "ipython",
    "version": 3
   },
   "file_extension": ".py",
   "mimetype": "text/x-python",
   "name": "python",
   "nbconvert_exporter": "python",
   "pygments_lexer": "ipython3",
   "version": "3.7.6"
  }
 },
 "nbformat": 4,
 "nbformat_minor": 4
}
